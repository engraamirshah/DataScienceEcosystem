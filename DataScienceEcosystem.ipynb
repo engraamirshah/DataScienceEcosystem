{
  "metadata": {
    "kernelspec": {
      "name": "python",
      "display_name": "Python (Pyodide)",
      "language": "python"
    },
    "language_info": {
      "codemirror_mode": {
        "name": "python",
        "version": 3
      },
      "file_extension": ".py",
      "mimetype": "text/x-python",
      "name": "python",
      "nbconvert_exporter": "python",
      "pygments_lexer": "ipython3",
      "version": "3.8"
    }
  },
  "nbformat_minor": 5,
  "nbformat": 4,
  "cells": [
    {
      "id": "87e5d0ed-96a9-46bc-a7fc-d4d8d63a1e06",
      "cell_type": "markdown",
      "source": "# Data Science Tools and Ecosystem",
      "metadata": {}
    },
    {
      "id": "e860d8b3-b885-4769-a07d-85b8773bc57c",
      "cell_type": "markdown",
      "source": "In this notebook, Data Science Tools and Ecosystem are summarized.",
      "metadata": {}
    },
    {
      "id": "aad20af6-653e-4daf-a739-d2790cabcc53",
      "cell_type": "markdown",
      "source": "**Objectives:**\n- List popular languages for Data Science\n- List popular libraries used in Data Science\n- List popular tools used in Data Science",
      "metadata": {}
    },
    {
      "id": "53ae20f8-105d-4089-868a-223c6b23685d",
      "cell_type": "markdown",
      "source": "Some of the popular languages that Data Scientists use are:\n1. Python\n2. R\n3. SQL\n4. Julia",
      "metadata": {}
    },
    {
      "id": "342495cf-fa52-4d6b-a08e-76aab475eac9",
      "cell_type": "markdown",
      "source": "Some of the commonly used libraries used by Data Scientists include:\n1. Pandas\n2. Numpy\n3. Matplotlib\n4. NLTK",
      "metadata": {}
    },
    {
      "id": "0103cea2-624b-4189-84d7-80e5c201455a",
      "cell_type": "markdown",
      "source": "|Data Science Tools|\n|------------------|\n|Jupyter Notebook|\n|RStudio|\n|Anaconda Navigator|\n|Google Colab|\n|IBM Watson Studio|",
      "metadata": {}
    },
    {
      "id": "fc46b9f6-1ef0-49cc-b927-f2bd0337c07d",
      "cell_type": "markdown",
      "source": "### Below are a few examples of evaluating arithmetic expressions in Python\n",
      "metadata": {}
    },
    {
      "id": "45cc897e-7614-4e04-9345-245c1f3bb0da",
      "cell_type": "code",
      "source": "#This a simple arithmetic expression to mutiply then add integers\n(3*4)+5",
      "metadata": {
        "trusted": true
      },
      "outputs": [
        {
          "execution_count": 1,
          "output_type": "execute_result",
          "data": {
            "text/plain": "17"
          },
          "metadata": {}
        }
      ],
      "execution_count": 1
    },
    {
      "id": "0379ba2a-b205-448d-a0f0-35d21875f6d9",
      "cell_type": "code",
      "source": "#This will convert 200 minutes to hours by diving by 60\n200/60",
      "metadata": {
        "trusted": true
      },
      "outputs": [
        {
          "execution_count": 2,
          "output_type": "execute_result",
          "data": {
            "text/plain": "3.3333333333333335"
          },
          "metadata": {}
        }
      ],
      "execution_count": 2
    },
    {
      "id": "9503d0f3-a71e-4b35-863c-90cc9d91cb8b",
      "cell_type": "markdown",
      "source": "## Author\nMuhammad Amir Shah",
      "metadata": {}
    },
    {
      "id": "f8f48012-b928-40c5-bd24-baf9db998b4e",
      "cell_type": "code",
      "source": "",
      "metadata": {
        "trusted": true
      },
      "outputs": [],
      "execution_count": null
    }
  ]
}